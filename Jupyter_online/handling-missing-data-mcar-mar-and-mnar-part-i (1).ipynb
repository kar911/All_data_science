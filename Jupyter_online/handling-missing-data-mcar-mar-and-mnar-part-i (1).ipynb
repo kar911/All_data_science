{
 "cells": [
  {
   "cell_type": "code",
   "execution_count": 2,
   "metadata": {},
   "outputs": [],
   "source": [
    "# Librairies\n",
    "import numpy as np\n",
    "import pandas as pd\n",
    "import matplotlib.pyplot as plt\n",
    "import seaborn as sns\n",
    "# import xgboost as xgb\n",
    "import random\n",
    "%matplotlib inline"
   ]
  },
  {
   "cell_type": "markdown",
   "metadata": {},
   "source": [
    "# **Introduction** \n",
    "\n",
    "The main objective of this notebook is to give some insights on how to deal with data in presence of missing records. Missing data could be regarded as \"records without entries\". They are often denoted by a \"na, n/a, N/a, N/A (not applicable)\" or \"Nan, NaN, NAN (not a number)\". The denomination depends on the used progamming langauge (NaN is the most common in python language for machine learning). NaN values could also appear in some non authorized operation in mathematics as deviding 0 by 0 or substracting infinity from infinity (as shown in the below cell)."
   ]
  },
  {
   "cell_type": "code",
   "execution_count": 3,
   "metadata": {},
   "outputs": [
    {
     "name": "stdout",
     "output_type": "stream",
     "text": [
      "nan\n",
      "nan\n"
     ]
    },
    {
     "name": "stderr",
     "output_type": "stream",
     "text": [
      "/tmp/ipykernel_4102/1487576550.py:1: RuntimeWarning: invalid value encountered in double_scalars\n",
      "  print(np.float64(0)/0)\n"
     ]
    }
   ],
   "source": [
    "print(np.float64(0)/0)\n",
    "print(np.Infinity-np.Infinity)"
   ]
  },
  {
   "cell_type": "markdown",
   "metadata": {},
   "source": [
    "# ** Datasets**\n",
    "\n",
    "In order to illustrate the different procedures suggested in this notebook, the [boston housing dataset](https://www.kaggle.com/altavish/boston-housing-dataset) was chosen since housing datasets are very common in Machine LEarning projects. Other datasets might be constructed on demand in some cases. "
   ]
  },
  {
   "cell_type": "code",
   "execution_count": 4,
   "metadata": {
    "_cell_guid": "b1076dfc-b9ad-4769-8c92-a6c4dae69d19",
    "_uuid": "8f2839f25d086af736a60e9eeb907d3b93b6e0e5"
   },
   "outputs": [],
   "source": [
    "# This Python 3 environment comes with many helpful analytics libraries installed\n",
    "# It is defined by the kaggle/python Docker image: https://github.com/kaggle/docker-python\n",
    "# For example, here's several helpful packages to load\n",
    "\n",
    "import numpy as np # linear algebra\n",
    "import pandas as pd # data processing, CSV file I/O (e.g. pd.read_csv)\n",
    "\n",
    "# Input data files are available in the read-only \"../input/\" directory\n",
    "# For example, running this (by clicking run or pressing Shift+Enter) will list all files under the input directory\n",
    "\n",
    "import os\n",
    "for dirname, _, filenames in os.walk('/kaggle/input'):\n",
    "    for filename in filenames:\n",
    "        print(os.path.join(dirname, filename))\n",
    "\n",
    "# You can write up to 5GB to the current directory (/kaggle/working/) that gets preserved as output when you create a version using \"Save & Run All\" \n",
    "# You can also write temporary files to /kaggle/temp/, but they won't be saved outside of the current session"
   ]
  },
  {
   "cell_type": "markdown",
   "metadata": {},
   "source": [
    "The following two lines are for reading the datasets from a csv file and saving them in a dataframe. The reader is supposed to be very familiar with most common librairies such as pandas, numpy, matplotlib, searborn, etc."
   ]
  },
  {
   "cell_type": "code",
   "execution_count": 8,
   "metadata": {
    "_cell_guid": "79c7e3d0-c299-4dcb-8224-4455121ee9b0",
    "_uuid": "d629ff2d2480ee46fbb7e2d37f6b5fab8052498a"
   },
   "outputs": [],
   "source": [
    "df = pd.read_csv(\"HousingData.csv\")"
   ]
  },
  {
   "cell_type": "markdown",
   "metadata": {},
   "source": [
    "Let's quickly check the size of the dataset."
   ]
  },
  {
   "cell_type": "code",
   "execution_count": 9,
   "metadata": {},
   "outputs": [
    {
     "name": "stdout",
     "output_type": "stream",
     "text": [
      "The shape of the dataset is 506 rows and 14 columns\n"
     ]
    }
   ],
   "source": [
    "print(\"The shape of the dataset is {} rows and {} columns\".format(df.shape[0],df.shape[1]))"
   ]
  },
  {
   "cell_type": "markdown",
   "metadata": {},
   "source": [
    "Since only a one set of data is provided, the data will be split into two sets: train and test using sci-kit learn library."
   ]
  },
  {
   "cell_type": "code",
   "execution_count": 10,
   "metadata": {},
   "outputs": [],
   "source": [
    "from sklearn.model_selection import train_test_split\n",
    "train_df, test_df = train_test_split(df, train_size=0.7)"
   ]
  },
  {
   "cell_type": "code",
   "execution_count": 11,
   "metadata": {},
   "outputs": [
    {
     "name": "stdout",
     "output_type": "stream",
     "text": [
      "The shape of the train dataset is 354 rows and 14 columns (70% of the data)\n",
      "The shape of the test dataset is 152 rows and 14 columns (30% of the data)\n"
     ]
    }
   ],
   "source": [
    "print(\"The shape of the train dataset is {} rows and {} columns (70% of the data)\".format(train_df.shape[0],train_df.shape[1]))\n",
    "print(\"The shape of the test dataset is {} rows and {} columns (30% of the data)\".format(test_df.shape[0],test_df.shape[1]))"
   ]
  },
  {
   "cell_type": "markdown",
   "metadata": {},
   "source": [
    "# Prelimenary analysis - Are there missing values?\n",
    "\n",
    "The first step is to detect whether there is a presence of outliers or not. The following commands makes the job and get the pourcentage in an ordered way. You can either use:"
   ]
  },
  {
   "cell_type": "code",
   "execution_count": 12,
   "metadata": {},
   "outputs": [
    {
     "data": {
      "text/plain": [
       "INDUS      4.802260\n",
       "CHAS       4.519774\n",
       "CRIM       4.237288\n",
       "AGE        3.672316\n",
       "ZN         3.107345\n",
       "LSTAT      2.824859\n",
       "NOX        0.000000\n",
       "RM         0.000000\n",
       "DIS        0.000000\n",
       "RAD        0.000000\n",
       "TAX        0.000000\n",
       "PTRATIO    0.000000\n",
       "B          0.000000\n",
       "MEDV       0.000000\n",
       "dtype: float64"
      ]
     },
     "execution_count": 12,
     "metadata": {},
     "output_type": "execute_result"
    }
   ],
   "source": [
    "train_df.isnull().sum().sort_values(ascending=False)/len(train_df)*100"
   ]
  },
  {
   "cell_type": "markdown",
   "metadata": {},
   "source": [
    "Or you can use the mean in order to get directly a pourcentage."
   ]
  },
  {
   "cell_type": "code",
   "execution_count": 13,
   "metadata": {},
   "outputs": [],
   "source": [
    "null_values_train = train_df.isnull().mean().sort_values(ascending=False)*100\n",
    "null_values_train = null_values_train[null_values_train>0]"
   ]
  },
  {
   "cell_type": "markdown",
   "metadata": {},
   "source": [
    "And for test set:"
   ]
  },
  {
   "cell_type": "code",
   "execution_count": 14,
   "metadata": {},
   "outputs": [],
   "source": [
    "null_values_test = test_df.isnull().mean().sort_values(ascending=False)*100\n",
    "null_values_test = null_values_test[null_values_test>0]"
   ]
  },
  {
   "cell_type": "markdown",
   "metadata": {},
   "source": [
    "We can already get some insights about the distribution of nan values. Let us plot the pourcentage of missing values in train and test set per column."
   ]
  },
  {
   "cell_type": "code",
   "execution_count": 15,
   "metadata": {},
   "outputs": [
    {
     "data": {
      "image/png": "[encoded data removed]",
      "text/plain": [
       "<Figure size 1440x720 with 2 Axes>"
      ]
     },
     "metadata": {
      "needs_background": "light"
     },
     "output_type": "display_data"
    }
   ],
   "source": [
    "fig, ax = plt.subplots(nrows=1, ncols=2, figsize=(20,10))\n",
    "sns.barplot(x=null_values_train.index, y=null_values_train.values, ax=ax[0]).set_title('Null values pourcentage in train set')\n",
    "sns.barplot(x=null_values_train.index, y=null_values_test.values, ax=ax[1]).set_title('Null values pourcentage in test set')\n",
    "plt.show()"
   ]
  },
  {
   "cell_type": "markdown",
   "metadata": {},
   "source": [
    "We observe that in the case of feature \"ZN\", the pourcetage is the same in the training set as well as in the test set. We hold this remark for the moment and resume our analysis. \n",
    "\n",
    "One question that may arise: Are missing data so preblematic at this point? Couldn't we find a way to escape dealing with missing data?"
   ]
  },
  {
   "cell_type": "markdown",
   "metadata": {},
   "source": [
    "# ** Do not care for missing data methods **"
   ]
  },
  {
   "cell_type": "markdown",
   "metadata": {},
   "source": [
    "Suppose that we would like to predict the variable \"MEDV\" in the previous data set. So our dependent variable would be \"MEDV\" and the other will be indepednet ones. A simple manipulation is needed to adapt to the problem of Machine Learning (seperating X and y in both train and test sets)."
   ]
  },
  {
   "cell_type": "code",
   "execution_count": 16,
   "metadata": {},
   "outputs": [],
   "source": [
    "X_train = train_df[[col for col in train_df.columns if col!=\"MEDV\"]]\n",
    "y_train = train_df[\"MEDV\"]\n",
    "\n",
    "X_test = test_df[[col for col in test_df.columns if col!=\"MEDV\"]]\n",
    "t_test = test_df[\"MEDV\"]"
   ]
  },
  {
   "cell_type": "markdown",
   "metadata": {},
   "source": [
    "Going back to my previous question whether we can perform regression or classification whitout caring too much about missing data, the answer is yes since there are some regression methods that can handle missing data because the method is built internally in a way to easily handle the missing data. The most famous method is the regression function included in the XGboost librairie. Let us check if the algorithm really can handle missing data."
   ]
  },
  {
   "cell_type": "code",
   "execution_count": 17,
   "metadata": {},
   "outputs": [
    {
     "ename": "NameError",
     "evalue": "name 'xgb' is not defined",
     "output_type": "error",
     "traceback": [
      "\u001b[0;31m---------------------------------------------------------------------------\u001b[0m",
      "\u001b[0;31mNameError\u001b[0m                                 Traceback (most recent call last)",
      "Input \u001b[0;32mIn [17]\u001b[0m, in \u001b[0;36m<module>\u001b[0;34m\u001b[0m\n\u001b[0;32m----> 1\u001b[0m xg_reg \u001b[38;5;241m=\u001b[39m \u001b[43mxgb\u001b[49m\u001b[38;5;241m.\u001b[39mXGBRegressor(objective \u001b[38;5;241m=\u001b[39m\u001b[38;5;124m'\u001b[39m\u001b[38;5;124mreg:squarederror\u001b[39m\u001b[38;5;124m'\u001b[39m, colsample_bytree \u001b[38;5;241m=\u001b[39m \u001b[38;5;241m0.3\u001b[39m, learning_rate \u001b[38;5;241m=\u001b[39m \u001b[38;5;241m0.1\u001b[39m,\n\u001b[1;32m      2\u001b[0m                 max_depth \u001b[38;5;241m=\u001b[39m \u001b[38;5;241m5\u001b[39m, alpha \u001b[38;5;241m=\u001b[39m \u001b[38;5;241m10\u001b[39m, n_estimators \u001b[38;5;241m=\u001b[39m \u001b[38;5;241m10\u001b[39m)\n\u001b[1;32m      3\u001b[0m xg_reg\u001b[38;5;241m.\u001b[39mfit(X_train,y_train)\n\u001b[1;32m      4\u001b[0m preds \u001b[38;5;241m=\u001b[39m xg_reg\u001b[38;5;241m.\u001b[39mpredict(X_test)\n",
      "\u001b[0;31mNameError\u001b[0m: name 'xgb' is not defined"
     ]
    }
   ],
   "source": [
    "xg_reg = xgb.XGBRegressor(objective ='reg:squarederror', colsample_bytree = 0.3, learning_rate = 0.1,\n",
    "                max_depth = 5, alpha = 10, n_estimators = 10)\n",
    "xg_reg.fit(X_train,y_train)\n",
    "preds = xg_reg.predict(X_test)"
   ]
  },
  {
   "cell_type": "markdown",
   "metadata": {},
   "source": [
    "And magic!. No errors were flagged after the fitting. The hyperparamters of the regression method must be adjusted in order to increase the performance of the algorithm. \n",
    "\n",
    "Let us now move to the methods that looks in detail at the distribution of the missing data."
   ]
  },
  {
   "cell_type": "markdown",
   "metadata": {},
   "source": [
    "# **Missing data strategies**\n",
    "\n",
    "The two strategies we could follow in the case we encounter a missing value are:\n",
    "\n",
    "* Removing the rows containing \n",
    "* Replacing the missing values\n",
    "\n",
    "Let us apply the first solution and explore how many rows are remaining (The train set has 354). After dropping rows containig nan values in any of the columns we end with 269 rows. This means that 25% of data were dropped which will for sure include a bias in the final result."
   ]
  },
  {
   "cell_type": "code",
   "execution_count": 18,
   "metadata": {},
   "outputs": [
    {
     "name": "stdout",
     "output_type": "stream",
     "text": [
      "The number of rows in the train_df_dropped_na is 278\n"
     ]
    }
   ],
   "source": [
    "train_df_dropped_na = train_df.dropna()\n",
    "print(\"The number of rows in the train_df_dropped_na is {}\".format(train_df_dropped_na.shape[0]))"
   ]
  },
  {
   "cell_type": "markdown",
   "metadata": {},
   "source": [
    "The second method aims at replacing the missing data with some information infered from the whole data set such us the mean, the median, the mode, or simply a predefined value.\n",
    "\n",
    "<font color='red'>HERE I WOULD LIKE TO FLAG A COMMON ERROR WITH THIS METHOD. THE IMPUTATION SHOULD BE THE SAME FOR BOTH TRAIN AND TEST SETS. IN OTHER WORDS, IF WE DECIDE TO REPLACE NAN VALUES WITH THE MEAN CALCULATED USING TRAIN DATA, THE SAME MEAN VALUE SHOULD BE USED FOR IMPUTATION IN TEST SET. THIS IS BECAUSE WE ARE NOT SUPPOSED TO KNOW ANYTHING ABOUT THE TEST SET.</font>"
   ]
  },
  {
   "cell_type": "markdown",
   "metadata": {},
   "source": [
    "# ** Types of missing data **\n",
    "\n",
    "A previous classification of missing data was established by [Little & Rubin in 1987](https://onlinelibrary.wiley.com/doi/book/10.1002/9781119013563) diving missing data into three categories: \n",
    "\n",
    "* MCAR : Missing completely at random\n",
    "* MAR: Missing at random\n",
    "* MNAR: Missing not at random\n",
    "\n",
    "In order to understand the difference between the differnet types of missig data, we will try to construct them ourserlves.\n"
   ]
  },
  {
   "cell_type": "markdown",
   "metadata": {},
   "source": [
    "## MCAR\n",
    "\n",
    "Data missing completely at random means that the probability of missingness in one independent variable does not depend on the other observed independent variables. In other words, the probability of missingness in an indepdent variable depends only on some external factors.\n",
    "\n",
    "For more clarification we will attempt to construct some data with a MCAR pattern. \n",
    "\n",
    "Let us imagine that we collect a set of 3000 entry data about some employees including: Sex, Height, Weight and Salary. We suppose that all information about sex was correctly collected (with no missing data). In a first stage, the simulated dataframe has no missing data (the missing entries will be included later)."
   ]
  },
  {
   "cell_type": "code",
   "execution_count": 19,
   "metadata": {},
   "outputs": [],
   "source": [
    "N = 3000\n",
    "sex = np.random.choice([\"Male\", \"Female\"], N, p=[0.6, 0.4])\n",
    "height = 140 + (200-140) * np.random.rand(N)\n",
    "weight = 40 + (120-40) * np.random.rand(N)\n",
    "salary = 30000+(80000-30000) * np.random.rand(N)\n",
    "df = pd.DataFrame(data=[sex, height, weight, salary]).transpose()\n",
    "df.columns = [\"Sex\", \"Height\", \"weight\", \"salary\"]"
   ]
  },
  {
   "cell_type": "markdown",
   "metadata": {},
   "source": [
    "Suppose that we want to impose that Height will have a MCAR pattern. As previously said, the missingness should be included by an external factor. We suppose that this external factor is throwing a dice, if the value is equal to 6, then the record will be missing. Let us apply this for the height variable."
   ]
  },
  {
   "cell_type": "code",
   "execution_count": 20,
   "metadata": {},
   "outputs": [],
   "source": [
    "# Initialize the Dice columns\n",
    "df[\"Dice\"] = df[\"Sex\"]\n",
    "# Fill the Dice column with the probability values\n",
    "df[\"Dice\"] = np.random.choice([1, 2, 3, 4, 5, 6], N, p=[1/6, 1/6, 1/6, 1/6, 1/6, 1/6])\n",
    "# Dtermine indices where Dice=6\n",
    "index = df[df[\"Dice\"]==6].index\n",
    "# Replace with NaN\n",
    "df.loc[index,\"Height\"] = np.nan"
   ]
  },
  {
   "cell_type": "markdown",
   "metadata": {},
   "source": [
    "Now some values of the Height column were filled with NaN Values according to an MCAR scheme. The next point is to define methods to determine of the data were missing completely at random.\n",
    "\n",
    "# **Detect the MCAR pattern**\n",
    "\n",
    "In order to detect an MCAR pattern, we can use statistical tests. One famous statistical test for this purpose is the $\\chi^2$ test. The $\\chi^2$ could be used to test goodness of fit, homogenity test and independence test. The latter will be used in this case to figure out if the missigness of data in the Height column is dependent (or not) on the other variables (columns).\n",
    "\n",
    "The test starts by stating a first hypothesis called (the null hypothesis) and calculates a measure of closness between the observed data and the expected data (in the case where the null hypothesis is satisfied).\n",
    "\n",
    "The null hypothesis in this case is the following:\n",
    "\n",
    "**$H_0$:** There is no association between the missingness in the Height column and the other columns. The critical $p$-value associated to this test is equal to 0.05.\n",
    "\n",
    "Let us first define the columns \"Height_missing\" that equals to True if Height is missing and False otherwise."
   ]
  },
  {
   "cell_type": "code",
   "execution_count": 21,
   "metadata": {},
   "outputs": [],
   "source": [
    "# Initialize the Dice columns\n",
    "df[\"Height_missing\"] = df[\"Height\"]\n",
    "# The column is false\n",
    "df[\"Height_missing\"] = False\n",
    "# Replace where Height_missing with True where Height is missing\n",
    "df.loc[df[df['Height'].isnull()].index, \"Height_missing\"] = True"
   ]
  },
  {
   "cell_type": "markdown",
   "metadata": {},
   "source": [
    "The first step is to detect if the missingness in the Height variable is relate to the Sex variable. The [Chi2 contngency test](https://docs.scipy.org/doc/scipy/reference/generated/scipy.stats.chi2_contingency.html) from the scipy library will be used. This requires tge establishement of the contengeny table."
   ]
  },
  {
   "cell_type": "code",
   "execution_count": 22,
   "metadata": {},
   "outputs": [
    {
     "data": {
      "text/plain": [
       "Sex\n",
       "Female    194\n",
       "Male      303\n",
       "Name: Height_missing, dtype: int64"
      ]
     },
     "execution_count": 22,
     "metadata": {},
     "output_type": "execute_result"
    }
   ],
   "source": [
    "df[df[\"Height_missing\"]==True].groupby(\"Sex\")[\"Height_missing\"].count()"
   ]
  },
  {
   "cell_type": "code",
   "execution_count": 23,
   "metadata": {},
   "outputs": [
    {
     "data": {
      "text/plain": [
       "Sex\n",
       "Female    1051\n",
       "Male      1452\n",
       "Name: Height_missing, dtype: int64"
      ]
     },
     "execution_count": 23,
     "metadata": {},
     "output_type": "execute_result"
    }
   ],
   "source": [
    "df[df[\"Height_missing\"]==False].groupby(\"Sex\")[\"Height_missing\"].count()"
   ]
  },
  {
   "cell_type": "markdown",
   "metadata": {},
   "source": [
    "The contingencey table is the following:"
   ]
  },
  {
   "cell_type": "code",
   "execution_count": null,
   "metadata": {},
   "outputs": [],
   "source": [
    "#          |   True   |   False  |\n",
    "\n",
    "# Female   |   197    |   1025   |\n",
    "\n",
    "# Male     |   307    |   1471   |"
   ]
  },
  {
   "cell_type": "markdown",
   "metadata": {},
   "source": [
    "This table will be fed to the Chi2 contngency test from the scipy library. We expect that the degree of freedom will be 1 ((nrows-1) * (nclos-1)). This is also an information the scipy function returns."
   ]
  },
  {
   "cell_type": "code",
   "execution_count": null,
   "metadata": {},
   "outputs": [],
   "source": [
    "table = [[197, 1025],[307,1471]]"
   ]
  },
  {
   "cell_type": "code",
   "execution_count": null,
   "metadata": {},
   "outputs": [],
   "source": [
    "from scipy.stats import chi2_contingency\n",
    "chi2, p, dof, ex = chi2_contingency(table)"
   ]
  },
  {
   "cell_type": "markdown",
   "metadata": {},
   "source": [
    "The associated $p$-value to this observation is equal to:"
   ]
  },
  {
   "cell_type": "code",
   "execution_count": null,
   "metadata": {},
   "outputs": [],
   "source": [
    "print(\"The p-value is esqual to {}\".format(p))"
   ]
  },
  {
   "cell_type": "markdown",
   "metadata": {},
   "source": [
    "Since the $p$-value is greater that 5%, not significant result, we fail to reject null hypothesis (H0) and the two variables are indepedent."
   ]
  },
  {
   "cell_type": "markdown",
   "metadata": {},
   "source": [
    "As a conclusion, the missingness in the Height variable is not dependent on the Sex variable. Next, we should perform the same analysis for the other variables: weight and salary. This could be done in the same manner with a signle modification. Since the $chi^2$ test could not be performed between a continous and a categorical variable, the continous variables must be converted into categories by performing some binning techniques. "
   ]
  },
  {
   "cell_type": "markdown",
   "metadata": {},
   "source": [
    "**END of PART I**\n",
    "\n",
    "**In order to keep improving this notebook, please report any mistake (logical, mathematical or even grammatical in a comment). I will do the necessary to make the necessary adjustments.**\n",
    "\n",
    "**In the following parts, we will apply this procedure to the Boston housing dataset and look into the MAR and MNAR patterns.**"
   ]
  }
 ],
 "metadata": {
  "kernelspec": {
   "display_name": "Python 3 (ipykernel)",
   "language": "python",
   "name": "python3"
  },
  "language_info": {
   "codemirror_mode": {
    "name": "ipython",
    "version": 3
   },
   "file_extension": ".py",
   "mimetype": "text/x-python",
   "name": "python",
   "nbconvert_exporter": "python",
   "pygments_lexer": "ipython3",
   "version": "3.8.10"
  }
 },
 "nbformat": 4,
 "nbformat_minor": 4
}
