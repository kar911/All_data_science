{
 "cells": [
  {
   "cell_type": "markdown",
   "metadata": {},
   "source": [
    "### *class distribution must be equal for all variable"
   ]
  },
  {
   "cell_type": "markdown",
   "metadata": {},
   "source": [
    "#### *some machine learning algorithms such as linear\n",
    "#### regression and logistic regression will perform poorly if we have highly correlated\n",
    "#### attributes."
   ]
  },
  {
   "cell_type": "markdown",
   "metadata": {},
   "source": [
    "#### * attributes are rescaled into the range of 0\n",
    "#### and 1. ML algorithms like gradient descent and k-Nearest Neighbors requires scaled data.\n",
    "#### We can rescale the data with the help of MinMaxScaler class of scikit-learn Python\n",
    "#### library.\n"
   ]
  },
  {
   "cell_type": "markdown",
   "metadata": {},
   "source": [
    " .This is used to rescale each\n",
    "row of data to have a length of 1. It is mainly useful in Sparse dataset where we have lots\n",
    "of zeros. We can rescale the data with the help of Normalizer class of scikit-learn\n",
    "Python library.\n"
   ]
  },
  {
   "cell_type": "markdown",
   "metadata": {},
   "source": [
    "L2"
   ]
  },
  {
   "cell_type": "code",
   "execution_count": 3,
   "metadata": {},
   "outputs": [
    {
     "data": {
      "text/plain": [
       "1.0044"
      ]
     },
     "execution_count": 3,
     "metadata": {},
     "output_type": "execute_result"
    }
   ],
   "source": [
    "f=[0.03,0.83,0.4,0.2,0.0,0.19,0.0,0.28,0.01]\n",
    "g=[i**2 for i in f]\n",
    "sum(g)"
   ]
  },
  {
   "cell_type": "markdown",
   "metadata": {},
   "source": [
    "L1"
   ]
  },
  {
   "cell_type": "code",
   "execution_count": 2,
   "metadata": {
    "scrolled": true
   },
   "outputs": [
    {
     "data": {
      "text/plain": [
       "[0.03, 0.83, 0.4, 0.2, 0.0, 0.19, 0.0, 0.28, 0.01]"
      ]
     },
     "execution_count": 2,
     "metadata": {},
     "output_type": "execute_result"
    }
   ],
   "source": [
    "h=[ abs(i) for i in f]\n",
    "h"
   ]
  },
  {
   "cell_type": "code",
   "execution_count": 4,
   "metadata": {
    "scrolled": true
   },
   "outputs": [
    {
     "data": {
      "text/plain": [
       "1.94"
      ]
     },
     "execution_count": 4,
     "metadata": {},
     "output_type": "execute_result"
    }
   ],
   "source": [
    "sum(h)"
   ]
  },
  {
   "cell_type": "markdown",
   "metadata": {},
   "source": [
    "binerizer\n",
    "\n",
    "we choose threshold value = 0.5, then the dataset value above it will\n",
    "become 1 and below this will become 0. That is why we can call it binarizing the data or\n",
    "thresholding the data."
   ]
  },
  {
   "cell_type": "code",
   "execution_count": null,
   "metadata": {},
   "outputs": [],
   "source": [
    "binarizer = Binarizer(threshold=0.5).fit(array)\n",
    "Data_binarized = binarizer.transform(array)"
   ]
  },
  {
   "cell_type": "markdown",
   "metadata": {},
   "source": [
    " Standardization    \n",
    "    differs the mean and SD (Standard Deviation)\n",
    "to a standard Gaussian distribution with a mean of 0 and a SD of 1. \n",
    "\n",
    "meaning convert form bt -1 to 1\n",
    "\n",
    "where in normalizaation we do fron 0 to 1"
   ]
  },
  {
   "cell_type": "code",
   "execution_count": null,
   "metadata": {},
   "outputs": [],
   "source": []
  }
 ],
 "metadata": {
  "kernelspec": {
   "display_name": "Python 3 (ipykernel)",
   "language": "python",
   "name": "python3"
  },
  "language_info": {
   "codemirror_mode": {
    "name": "ipython",
    "version": 3
   },
   "file_extension": ".py",
   "mimetype": "text/x-python",
   "name": "python",
   "nbconvert_exporter": "python",
   "pygments_lexer": "ipython3",
   "version": "3.8.10"
  }
 },
 "nbformat": 4,
 "nbformat_minor": 4
}
